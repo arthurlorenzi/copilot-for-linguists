{
 "cells": [
  {
   "cell_type": "markdown",
   "id": "433c6647-4a48-49ee-b4ef-3cc218c71142",
   "metadata": {},
   "source": [
    "## Evaluate\n",
    "\n",
    "Here we use the compiled responses we got from ChatGPT and OpenAssistant to evaluate their LU suggestions"
   ]
  },
  {
   "cell_type": "code",
   "execution_count": null,
   "id": "0aeed4c5-0c9a-43fb-9cc8-99fd2e904568",
   "metadata": {},
   "outputs": [],
   "source": [
    "import os\n",
    "import json\n",
    "import pandas as pd\n",
    "\n",
    "ASSISTANT = \"ChatGPT\" # OpenAssistant\n",
    "LANG = \"en\" # or pt\n",
    "\n",
    "with open(os.path.join(ASSISTANT, f'event_{LANG}.json')) as fp:\n",
    "    event_lus = json.load(fp)\n",
    "    \n",
    "with open(os.path.join(ASSISTANT, f'entity_{LANG}.json')) as fp:\n",
    "    entity_lus = json.load(fp)\n",
    "    \n",
    "with open(os.path.join(ASSISTANT, f'attribute_{LANG}.json')) as fp:\n",
    "    attribute_lus = json.load(fp)\n",
    "    \n",
    "# with open(os.path.join(ASSISTANT, f'artifact_{LANG}.json')) as fp:\n",
    "#     artifact_lus = json.load(fp)"
   ]
  },
  {
   "cell_type": "code",
   "execution_count": null,
   "id": "f388866f-e0e6-4d5f-9695-a5347da30804",
   "metadata": {},
   "outputs": [],
   "source": [
    "def create_df(type_lus):\n",
    "    return pd.DataFrame.from_records([\n",
    "        { \"idFrame\": int(idFrame), \"lu\": lu.lower().split('.')[0], \"split\": split }\n",
    "        for split, frames in type_lus.items()\n",
    "        for idFrame, lus in frames.items()\n",
    "        for lu in lus\n",
    "    ])\n",
    "\n",
    "\n",
    "def is_in_fn_plus(row):\n",
    "    frame_id = row[\"idFrame\"]\n",
    "    return frame_id in fn_plus and row[\"lu\"] in fn_plus[frame_id]\n",
    "\n",
    "\n",
    "def is_in_fnbr(row):\n",
    "    frame_id = row[\"idFrame\"]\n",
    "    return frame_id in fnbr and row[\"lu\"] in fnbr[frame_id]"
   ]
  },
  {
   "cell_type": "code",
   "execution_count": null,
   "id": "93cddece-769e-4bbb-b374-6be1e0fc3116",
   "metadata": {},
   "outputs": [],
   "source": [
    "df = create_df(event_lus)\n",
    "\n",
    "df['split'] = df['split'].str.replace('split-', '')\n",
    "\n",
    "if LANG == \"en\":\n",
    "    df['FN+?'] = df.apply(is_in_fn_plus, axis='columns')\n",
    "else:\n",
    "    df['FN-Br?'] = df.apply(is_in_fnbr, axis='columns')\n",
    "\n",
    "df = df.merge(frames.reset_index(drop=True), on='idFrame')\n",
    "\n",
    "df[['name', 'lu', 'split', 'FN+?']]"
   ]
  },
  {
   "cell_type": "code",
   "execution_count": null,
   "id": "22b21df3-b5dc-41d7-8cc5-6efdef95f731",
   "metadata": {},
   "outputs": [],
   "source": [
    "df['Correct?'] = df.apply(lambda x: x['lu'] in chatgpt_lus, axis='columns')\n",
    "df[['Correct?']].to_csv('correct.csv', index=False)"
   ]
  },
  {
   "cell_type": "code",
   "execution_count": null,
   "id": "ce6c7901-1d4d-49a5-96b2-dbb871e4b55f",
   "metadata": {},
   "outputs": [],
   "source": [
    "def is_correct(frame, lu):\n",
    "    row = df_correct[(df_correct['Frame'] == frame) & (df_correct['Lexical Unit'] == lu)]\n",
    "    \n",
    "    if len(row) > 0:\n",
    "        return row.iloc[0]['Correct?']\n",
    "    \n",
    "    return False\n",
    "\n",
    "df_correct = pd.read_csv(\n",
    "    os.path.join('ChatGPT - Correct', 'ChatGPT_Open Assistant Lexical Units - Events (pt).csv'))\n",
    "\n",
    "df_correct = df_correct[['Frame', 'Lexical Unit', 'Correct?']]\n",
    "\n",
    "df['Correct?'] = df.apply(lambda x: is_correct(x['name'], x['lu']), axis='columns')"
   ]
  },
  {
   "cell_type": "code",
   "execution_count": null,
   "id": "f9550fff-537f-46e1-9050-a69a3e05a557",
   "metadata": {},
   "outputs": [],
   "source": [
    "df['Correct?'].to_csv('correct.csv')"
   ]
  }
 ],
 "metadata": {
  "kernelspec": {
   "display_name": "copilots-kernel",
   "language": "python",
   "name": "copilots-kernel"
  },
  "language_info": {
   "codemirror_mode": {
    "name": "ipython",
    "version": 3
   },
   "file_extension": ".py",
   "mimetype": "text/x-python",
   "name": "python",
   "nbconvert_exporter": "python",
   "pygments_lexer": "ipython3",
   "version": "3.11.5"
  }
 },
 "nbformat": 4,
 "nbformat_minor": 5
}
