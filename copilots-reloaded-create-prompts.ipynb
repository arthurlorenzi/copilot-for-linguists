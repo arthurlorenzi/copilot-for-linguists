{
 "cells": [
  {
   "cell_type": "code",
   "execution_count": 37,
   "id": "e9cdb94a-27db-4914-88c6-9bb7e362b87d",
   "metadata": {},
   "outputs": [],
   "source": [
    "import pandas as pd\n",
    "\n",
    "df = pd.read_csv(\"data/FNBr-sent-ces.csv\")\n",
    "df = df.sort_values(by=[\"cxnName\", \"startChar\", \"endChar\"])"
   ]
  },
  {
   "cell_type": "code",
   "execution_count": 72,
   "id": "cae42678-f23d-4ec5-8596-bb441eb2203e",
   "metadata": {},
   "outputs": [],
   "source": [
    "from collections import defaultdict\n",
    "\n",
    "dataset = defaultdict(list)\n",
    "\n",
    "for cxn_name, group in df.groupby(by=[\"cxnName\"]):\n",
    "    for _, ces in group.groupby(by=[\"text\"]):\n",
    "        sent = ces.iloc[0][\"text\"]\n",
    "        ce_string = \", \".join(ces[\"ceName\"].tolist())\n",
    "        prompt = f\"\"\"Construction Grammar is a theory in Linguistics which states that form-meaning pairs \\\n",
    "called constructions are the basic units of language. In Brazilian Portuguese, the {cxn_name[0]} construction \\\n",
    "has {len(ces)} construction elements: {ce_string}.\n",
    "Consider the following sentence: \\\"{sent}\\\". Answer which spans of the sentence represent different construction \\\n",
    "elements. Reply in a JSON format, with the construction element as the key and the span as the value.\"\"\"\n",
    "\n",
    "        dataset[cxn_name[0]].append({\n",
    "            \"prompt\": prompt,\n",
    "            \"answer\": ces.apply(lambda r: r[\"text\"][r[\"startChar\"]:r[\"endChar\"]+1], axis=1).tolist()\n",
    "        })"
   ]
  },
  {
   "cell_type": "code",
   "execution_count": 75,
   "id": "f26ee35e-2f19-48e9-b441-76f2d8cf78f8",
   "metadata": {},
   "outputs": [],
   "source": [
    "import json\n",
    "\n",
    "with open(\"construct-prompts.json\", \"w\") as fp:\n",
    "    json.dump(dataset, fp)"
   ]
  },
  {
   "cell_type": "code",
   "execution_count": null,
   "id": "16916c2d-a40d-40aa-bbcd-558ed7bdc80b",
   "metadata": {},
   "outputs": [],
   "source": []
  }
 ],
 "metadata": {
  "kernelspec": {
   "display_name": "copilots-kernel",
   "language": "python",
   "name": "copilots-kernel"
  },
  "language_info": {
   "codemirror_mode": {
    "name": "ipython",
    "version": 3
   },
   "file_extension": ".py",
   "mimetype": "text/x-python",
   "name": "python",
   "nbconvert_exporter": "python",
   "pygments_lexer": "ipython3",
   "version": "3.11.5"
  }
 },
 "nbformat": 4,
 "nbformat_minor": 5
}
